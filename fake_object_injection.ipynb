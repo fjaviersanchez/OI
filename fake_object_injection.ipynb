{
 "cells": [
  {
   "cell_type": "markdown",
   "metadata": {},
   "source": [
    "# Fake Object injection"
   ]
  },
  {
   "cell_type": "markdown",
   "metadata": {},
   "source": [
    "The intent of this notebook is to provide a fake object injection framework into HFF images.\n",
    "This is done in order to characterize the uncertainties in the flux and color measurements.\n",
    "\n",
    "We use `GalSim` and the COSMOS catalog provided by Iary Davizson and matched to `GalSim`'s catalog."
   ]
  },
  {
   "cell_type": "code",
   "execution_count": 2,
   "metadata": {},
   "outputs": [
    {
     "name": "stdout",
     "output_type": "stream",
     "text": [
      "Populating the interactive namespace from numpy and matplotlib\n"
     ]
    }
   ],
   "source": [
    "%pylab inline"
   ]
  },
  {
   "cell_type": "code",
   "execution_count": 3,
   "metadata": {},
   "outputs": [],
   "source": [
    "import astropy.table\n",
    "from astropy.io import fits\n",
    "import fitsio\n",
    "import galsim\n",
    "import astropy.units as u\n",
    "import os\n",
    "import glob\n",
    "from astropy.wcs import WCS"
   ]
  },
  {
   "cell_type": "markdown",
   "metadata": {},
   "source": [
    "Clusters and filters in which we are going to simulate stuff"
   ]
  },
  {
   "cell_type": "code",
   "execution_count": 4,
   "metadata": {},
   "outputs": [],
   "source": [
    "clusters = ['A370', 'A2744', 'AS1063', 'M0416', 'M0717', 'M1149']"
   ]
  },
  {
   "cell_type": "code",
   "execution_count": 5,
   "metadata": {},
   "outputs": [],
   "source": [
    "filters = ['F105W', 'F125W', 'F140W', 'F160W', 'F275W', 'F336W', 'F435W', 'F606W',\n",
    "           'F814W', 'I1', 'I2', 'I3', 'I4', 'Ks' ]\n",
    "#filters = ['F105W', 'F125W', 'F140W', 'F160W', 'F435W', 'F606W',\n",
    "#           'F814W', 'I1', 'I2', 'I3', 'I4', 'Ks' ]"
   ]
  },
  {
   "cell_type": "markdown",
   "metadata": {},
   "source": [
    "Basic locations of data"
   ]
  },
  {
   "cell_type": "code",
   "execution_count": 6,
   "metadata": {},
   "outputs": [],
   "source": [
    "base_path = '../Downloads/GALSIM/'"
   ]
  },
  {
   "cell_type": "markdown",
   "metadata": {},
   "source": [
    "Photometric zeropoints"
   ]
  },
  {
   "cell_type": "code",
   "execution_count": 7,
   "metadata": {},
   "outputs": [],
   "source": [
    "zeropoints = {\n",
    "        'F275W': 24.1314,\n",
    "        'F336W': 24.6659,\n",
    "        'F435W': 25.6656,\n",
    "        'F606W': 26.4934,\n",
    "        'F814W': 25.9467,\n",
    "        'F105W': 26.2689,\n",
    "        'F125W': 26.2303,\n",
    "        'F140W': 26.4524,\n",
    "        'F160W': 25.9463,\n",
    "        'Ks': 26.0,\n",
    "        'I1': 21.5814,\n",
    "        'I2': 21.5814,\n",
    "        'I3': 21.5814,\n",
    "        'I4': 21.5814,\n",
    "    }"
   ]
  },
  {
   "cell_type": "code",
   "execution_count": 8,
   "metadata": {},
   "outputs": [],
   "source": [
    "#Initialize GalSim's COSMOS catalog (this subselects from real_galaxy_catalog_25.2.fits so we have to match later to Iary's catalog)\n",
    "cosmos_cat = galsim.COSMOSCatalog('real_galaxy_catalog_25.2.fits',\n",
    "                                      dir='../Downloads/COSMOS_25.2_training_sample/')"
   ]
  },
  {
   "cell_type": "code",
   "execution_count": 9,
   "metadata": {},
   "outputs": [],
   "source": [
    "def generate_fake_stars(cluster, bands=['F160W'], nobj=1, pixel_scale=0.06,\n",
    "                        zeropoints=zeropoints, use_segmap=True,\n",
    "                        base_path=base_path, \n",
    "                        min_mag=23, max_mag=30, ireal=1):\n",
    "    if cluster!='A370':\n",
    "        wgt_path = os.path.join(base_path, f'{cluster}_IR-WEIGHTED_RMS.fits')\n",
    "    else:\n",
    "        wgt_path = os.path.join(base_path, f'{cluster}_IR-WEIGHTED_RMS_convolved.fits')\n",
    "    wgtmap = fitsio.read(wgt_path) < 1000\n",
    "    meta = fitsio.read_header(wgt_path)\n",
    "    #pixel_scale = 0.03 #Pixel scale in arcseconds\n",
    "    image_x = meta['NAXIS1']\n",
    "    image_y = meta['NAXIS2']\n",
    "    full_image = galsim.ImageF(image_x, image_y)\n",
    "    full_image.setOrigin(0,0)\n",
    "    imgmask = wgtmap\n",
    "    psfs = dict()\n",
    "    segmask = np.ones_like(imgmask)\n",
    "    for band in bands:\n",
    "        if use_segmap:\n",
    "            for mode in ['hot', 'cold']:\n",
    "                segmap_path = os.path.join(base_path, f'{cluster}-clu_{band}_{cluster}_{mode}_SEG.fits')\n",
    "                segmask = (segmask) & (fitsio.read(segmap_path) == 0)\n",
    "        \n",
    "        imgmask = imgmask & segmask\n",
    "        #psfname = os.path.join(base_path, 'PSFs',\n",
    "        #                       f'{cluster}_{band}_psf_39x39.fits')\n",
    "        if band not in ['I1','I2', 'I3', 'I4', 'Ks']:\n",
    "            #psfname = os.path.join(base_path, f'{cluster}_{band}_psf_39x39.fits')\n",
    "            psfname = os.path.join('/Users/jsanch87/Downloads',f'M0416_{band}_psf_39x39.fits')\n",
    "        elif 'I' in band:\n",
    "            psfname = glob.glob(os.path.join(base_path, f'{cluster}_{band}*_PRF.fits'))[0]\n",
    "        elif 'K' in band:\n",
    "            psfname = glob.glob(os.path.join(base_path, f'{cluster}_Kdriz_psf_39x39.fits'))[0]\n",
    "        psfs[band] = galsim.InterpolatedImage(psfname, scale = pixel_scale, flux = 1.)\n",
    "    img_px = np.where(imgmask)\n",
    "    random_indices = np.random.choice(np.arange(len(img_px[0])), size=nobj)\n",
    "    dx = img_px[1][random_indices]\n",
    "    dy = img_px[0][random_indices]\n",
    "    nx = int(50/pixel_scale) #We draw only postage stamps of 10\"\n",
    "    ny = nx\n",
    "    all_images = dict()\n",
    "    mag = min_mag+(max_mag-min_mag)*np.random.random(size=nobj)\n",
    "    #Check http://www.stsci.edu/hst/acs/analysis/zeropoints for the total_flux calculation\n",
    "    total_flux = 10**(-0.4*(mag+2.408+5*np.log10(meta['PHOTPLAM'])))/meta['PHOTFLAM']\n",
    "    for band in bands:\n",
    "        full_image = galsim.ImageF(image_x, image_y)\n",
    "        full_image.setOrigin(0,0)\n",
    "        for i in range(0,nobj):\n",
    "            star = galsim.Gaussian(sigma=1e-12, flux=total_flux[i])\n",
    "            final = galsim.Convolve(psfs[band], star)\n",
    "            b = galsim.BoundsI(int(dx[i]-nx/2.), int(dx[i]+nx/2.), int(dy[i]-ny/2.), int(dy[i]+ny/2.))\n",
    "            stamp = final.drawImage(image=full_image[b], method='no_pixel',dtype=float32, add_to_image=True)\n",
    "            #if i%10==0:\n",
    "            #    print(mag[i], total_flux[i], dx[i], dy[i])\n",
    "        all_images[band] = full_image\n",
    "        if use_segmap:\n",
    "            full_image.write(os.path.join(base_path,'images_unblended', \n",
    "                                          f'image_fake_stars_{cluster}_{band}_{min_mag}_{max_mag}_{ireal}.fits.gz'))\n",
    "        else:\n",
    "            full_image.write(os.path.join(base_path,'images_blended', \n",
    "                                          f'image_fake_stars_{cluster}_{band}_{min_mag}_{max_mag}_{ireal}.fits.gz'))\n",
    "\n",
    "    tab = astropy.table.Table([np.arange(len(mag)),dx,dy,total_flux,mag],\n",
    "                              names=('ID','X','Y','TOTAL_FLUX','MAG'))\n",
    "    if use_segmap:\n",
    "        tab.write(os.path.join(base_path,'catalogs_unblended', f'catalog_fake_stars_{cluster}_{min_mag}_{max_mag}_{ireal}.dat'),format='ascii',overwrite=True)\n",
    "    else:\n",
    "        tab.write(os.path.join(base_path,'catalogs_blended', f'catalog_fake_stars_{cluster}_{min_mag}_{max_mag}_{ireal}.dat'),format='ascii',overwrite=True)\n",
    "    #hdulist[0].data = full_image.array+hdulist[0].data\n",
    "    #hdulist.writeto(os.path.join(path,'image_fake_'+filter_name+'_nobj_'+str(nobj)+'_'+str(min_mag)+'.fits.gz'),overwrite=True)\n",
    "    return all_images, dx, dy"
   ]
  },
  {
   "cell_type": "code",
   "execution_count": 10,
   "metadata": {},
   "outputs": [
    {
     "ename": "OSError",
     "evalue": "FITSIO status = 104: could not open the named file\nfailed to find or open the following file: (ffopen)\n../Downloads/GALSIM/A2744_IR-WEIGHTED_RMS.fits\n",
     "output_type": "error",
     "traceback": [
      "\u001b[0;31m---------------------------------------------------------------------------\u001b[0m",
      "\u001b[0;31mOSError\u001b[0m                                   Traceback (most recent call last)",
      "\u001b[0;32m<ipython-input-10-ee2c5ca24d59>\u001b[0m in \u001b[0;36m<module>\u001b[0;34m\u001b[0m\n\u001b[1;32m      1\u001b[0m \u001b[0;32mfor\u001b[0m \u001b[0mi\u001b[0m \u001b[0;32min\u001b[0m \u001b[0mrange\u001b[0m\u001b[0;34m(\u001b[0m\u001b[0;36m0\u001b[0m\u001b[0;34m,\u001b[0m\u001b[0;36m1\u001b[0m\u001b[0;34m)\u001b[0m\u001b[0;34m:\u001b[0m\u001b[0;34m\u001b[0m\u001b[0;34m\u001b[0m\u001b[0m\n\u001b[0;32m----> 2\u001b[0;31m     \u001b[0m_\u001b[0m\u001b[0;34m,\u001b[0m \u001b[0m_\u001b[0m\u001b[0;34m,\u001b[0m \u001b[0m_\u001b[0m \u001b[0;34m=\u001b[0m \u001b[0mgenerate_fake_stars\u001b[0m\u001b[0;34m(\u001b[0m\u001b[0;34m'A2744'\u001b[0m\u001b[0;34m,\u001b[0m \u001b[0mnobj\u001b[0m\u001b[0;34m=\u001b[0m\u001b[0;36m150\u001b[0m\u001b[0;34m,\u001b[0m \u001b[0mireal\u001b[0m\u001b[0;34m=\u001b[0m\u001b[0mi\u001b[0m\u001b[0;34m,\u001b[0m \u001b[0muse_segmap\u001b[0m\u001b[0;34m=\u001b[0m\u001b[0;32mFalse\u001b[0m\u001b[0;34m)\u001b[0m\u001b[0;34m\u001b[0m\u001b[0;34m\u001b[0m\u001b[0m\n\u001b[0m",
      "\u001b[0;32m<ipython-input-9-3e539fe9671b>\u001b[0m in \u001b[0;36mgenerate_fake_stars\u001b[0;34m(cluster, bands, nobj, pixel_scale, zeropoints, use_segmap, base_path, min_mag, max_mag, ireal)\u001b[0m\n\u001b[1;32m      7\u001b[0m     \u001b[0;32melse\u001b[0m\u001b[0;34m:\u001b[0m\u001b[0;34m\u001b[0m\u001b[0;34m\u001b[0m\u001b[0m\n\u001b[1;32m      8\u001b[0m         \u001b[0mwgt_path\u001b[0m \u001b[0;34m=\u001b[0m \u001b[0mos\u001b[0m\u001b[0;34m.\u001b[0m\u001b[0mpath\u001b[0m\u001b[0;34m.\u001b[0m\u001b[0mjoin\u001b[0m\u001b[0;34m(\u001b[0m\u001b[0mbase_path\u001b[0m\u001b[0;34m,\u001b[0m \u001b[0;34mf'{cluster}_IR-WEIGHTED_RMS_convolved.fits'\u001b[0m\u001b[0;34m)\u001b[0m\u001b[0;34m\u001b[0m\u001b[0;34m\u001b[0m\u001b[0m\n\u001b[0;32m----> 9\u001b[0;31m     \u001b[0mwgtmap\u001b[0m \u001b[0;34m=\u001b[0m \u001b[0mfitsio\u001b[0m\u001b[0;34m.\u001b[0m\u001b[0mread\u001b[0m\u001b[0;34m(\u001b[0m\u001b[0mwgt_path\u001b[0m\u001b[0;34m)\u001b[0m \u001b[0;34m<\u001b[0m \u001b[0;36m1000\u001b[0m\u001b[0;34m\u001b[0m\u001b[0;34m\u001b[0m\u001b[0m\n\u001b[0m\u001b[1;32m     10\u001b[0m     \u001b[0mmeta\u001b[0m \u001b[0;34m=\u001b[0m \u001b[0mfitsio\u001b[0m\u001b[0;34m.\u001b[0m\u001b[0mread_header\u001b[0m\u001b[0;34m(\u001b[0m\u001b[0mwgt_path\u001b[0m\u001b[0;34m)\u001b[0m\u001b[0;34m\u001b[0m\u001b[0;34m\u001b[0m\u001b[0m\n\u001b[1;32m     11\u001b[0m     \u001b[0;31m#pixel_scale = 0.03 #Pixel scale in arcseconds\u001b[0m\u001b[0;34m\u001b[0m\u001b[0;34m\u001b[0m\u001b[0;34m\u001b[0m\u001b[0m\n",
      "\u001b[0;32m//anaconda3/lib/python3.7/site-packages/fitsio/fitslib.py\u001b[0m in \u001b[0;36mread\u001b[0;34m(filename, ext, extver, **keys)\u001b[0m\n\u001b[1;32m     96\u001b[0m     \"\"\"\n\u001b[1;32m     97\u001b[0m \u001b[0;34m\u001b[0m\u001b[0m\n\u001b[0;32m---> 98\u001b[0;31m     \u001b[0;32mwith\u001b[0m \u001b[0mFITS\u001b[0m\u001b[0;34m(\u001b[0m\u001b[0mfilename\u001b[0m\u001b[0;34m,\u001b[0m \u001b[0;34m**\u001b[0m\u001b[0mkeys\u001b[0m\u001b[0;34m)\u001b[0m \u001b[0;32mas\u001b[0m \u001b[0mfits\u001b[0m\u001b[0;34m:\u001b[0m\u001b[0;34m\u001b[0m\u001b[0;34m\u001b[0m\u001b[0m\n\u001b[0m\u001b[1;32m     99\u001b[0m \u001b[0;34m\u001b[0m\u001b[0m\n\u001b[1;32m    100\u001b[0m         \u001b[0mheader\u001b[0m \u001b[0;34m=\u001b[0m \u001b[0mkeys\u001b[0m\u001b[0;34m.\u001b[0m\u001b[0mpop\u001b[0m\u001b[0;34m(\u001b[0m\u001b[0;34m'header'\u001b[0m\u001b[0;34m,\u001b[0m \u001b[0;32mFalse\u001b[0m\u001b[0;34m)\u001b[0m\u001b[0;34m\u001b[0m\u001b[0;34m\u001b[0m\u001b[0m\n",
      "\u001b[0;32m//anaconda3/lib/python3.7/site-packages/fitsio/fitslib.py\u001b[0m in \u001b[0;36m__init__\u001b[0;34m(self, filename, mode, **keys)\u001b[0m\n\u001b[1;32m    407\u001b[0m                     \u001b[0mcreate\u001b[0m \u001b[0;34m=\u001b[0m \u001b[0;36m1\u001b[0m\u001b[0;34m\u001b[0m\u001b[0;34m\u001b[0m\u001b[0m\n\u001b[1;32m    408\u001b[0m \u001b[0;34m\u001b[0m\u001b[0m\n\u001b[0;32m--> 409\u001b[0;31m         \u001b[0mself\u001b[0m\u001b[0;34m.\u001b[0m\u001b[0m_FITS\u001b[0m \u001b[0;34m=\u001b[0m \u001b[0m_fitsio_wrap\u001b[0m\u001b[0;34m.\u001b[0m\u001b[0mFITS\u001b[0m\u001b[0;34m(\u001b[0m\u001b[0mfilename\u001b[0m\u001b[0;34m,\u001b[0m \u001b[0mself\u001b[0m\u001b[0;34m.\u001b[0m\u001b[0mintmode\u001b[0m\u001b[0;34m,\u001b[0m \u001b[0mcreate\u001b[0m\u001b[0;34m)\u001b[0m\u001b[0;34m\u001b[0m\u001b[0;34m\u001b[0m\u001b[0m\n\u001b[0m\u001b[1;32m    410\u001b[0m \u001b[0;34m\u001b[0m\u001b[0m\n\u001b[1;32m    411\u001b[0m     \u001b[0;32mdef\u001b[0m \u001b[0mclose\u001b[0m\u001b[0;34m(\u001b[0m\u001b[0mself\u001b[0m\u001b[0;34m)\u001b[0m\u001b[0;34m:\u001b[0m\u001b[0;34m\u001b[0m\u001b[0;34m\u001b[0m\u001b[0m\n",
      "\u001b[0;31mOSError\u001b[0m: FITSIO status = 104: could not open the named file\nfailed to find or open the following file: (ffopen)\n../Downloads/GALSIM/A2744_IR-WEIGHTED_RMS.fits\n"
     ]
    }
   ],
   "source": [
    "for i in range(0,1):\n",
    "    _, _, _ = generate_fake_stars('A2744', nobj=150, ireal=i, use_segmap=False)"
   ]
  },
  {
   "cell_type": "code",
   "execution_count": 11,
   "metadata": {},
   "outputs": [],
   "source": [
    "# We filter the original catalog with the indices provided by cosmos_cat.orig_indices to get the `IDENT` values\n",
    "original_catalog = astropy.table.Table.read('../Downloads/COSMOS_25.2_training_sample/real_galaxy_catalog_25.2_fits.fits')[cosmos_cat.orig_index]\n",
    "iarys_catalog = astropy.table.Table.read('../Downloads/Completeness_and_Errors/COSMOS_training_catalog_25.3wHSTbands.fits.gz')"
   ]
  },
  {
   "cell_type": "code",
   "execution_count": 12,
   "metadata": {},
   "outputs": [],
   "source": [
    "# Index in the cosmos_cat object of the galaxies to simulate that are in Iary's catalog\n",
    "good_idx = np.where(np.in1d(original_catalog['IDENT'], iarys_catalog['IDENT']))[0]"
   ]
  },
  {
   "cell_type": "code",
   "execution_count": 13,
   "metadata": {},
   "outputs": [],
   "source": [
    "def prepare_galaxies(nobj):\n",
    "    galaxy_idx = np.random.choice(good_idx, size=nobj)\n",
    "    galaxy_ids = original_catalog['IDENT'][galaxy_idx]\n",
    "    gal_list = cosmos_cat.makeGalaxy(gal_type='parametric', index=galaxy_idx) # List with the COSMOS galaxies\n",
    "    beta=2.0*np.pi*np.random.random(size=nobj)\n",
    "    beta = beta*galsim.radians\n",
    "    gal_fluxes = dict()\n",
    "    for band in filters:\n",
    "        gal_fluxes[band]=np.zeros(len(galaxy_idx))\n",
    "        for i in range(nobj):\n",
    "            if 'I' not in band:\n",
    "                gal_fluxes[band][i] = iarys_catalog[f'{band}_lr'][iarys_catalog['IDENT']==galaxy_ids[i]]\n",
    "            else:\n",
    "                gal_fluxes[band][i] = iarys_catalog[f'{band.lower()}_lr'][iarys_catalog['IDENT']==galaxy_ids[i]]\n",
    "    flux_counts = dict()\n",
    "    for band in filters:\n",
    "        _mag = (gal_fluxes[band]*u.uJy).to(u.ABmag)\n",
    "        _mag = _mag.value\n",
    "        flux_counts[band] = 10**(-0.4*(_mag-zeropoints[band]))\n",
    "    return gal_list, beta, flux_counts"
   ]
  },
  {
   "cell_type": "code",
   "execution_count": 768,
   "metadata": {},
   "outputs": [],
   "source": [
    "# Generate nobj samples\n",
    "nobj = 80\n",
    "galaxy_idx = np.random.choice(good_idx, size=nobj)\n",
    "galaxy_ids = original_catalog['IDENT'][galaxy_idx]\n",
    "gal_list = cosmos_cat.makeGalaxy(gal_type='parametric', index=galaxy_idx) # List with the COSMOS galaxies\n",
    "#gal_list = galsim.RealGalaxy(cat, index=galaxy_idx)\n",
    "beta=2.0*np.pi*np.random.random(size=nobj)\n",
    "beta = beta*galsim.radians"
   ]
  },
  {
   "cell_type": "code",
   "execution_count": 769,
   "metadata": {},
   "outputs": [],
   "source": [
    "# Get the fluxes (Iary's catalog is in uJy)\n",
    "gal_fluxes = dict()\n",
    "for band in filters:\n",
    "    gal_fluxes[band]=np.zeros(len(galaxy_idx))\n",
    "    for i in range(nobj):\n",
    "        if 'I' not in band:\n",
    "            gal_fluxes[band][i] = iarys_catalog[f'{band}_lr'][iarys_catalog['IDENT']==galaxy_ids[i]]\n",
    "        else:\n",
    "            gal_fluxes[band][i] = iarys_catalog[f'{band.lower()}_lr'][iarys_catalog['IDENT']==galaxy_ids[i]]"
   ]
  },
  {
   "cell_type": "code",
   "execution_count": 770,
   "metadata": {},
   "outputs": [
    {
     "data": {
      "image/png": "[encoded data removed]",
      "text/plain": [
       "<Figure size 432x288 with 1 Axes>"
      ]
     },
     "metadata": {
      "needs_background": "light"
     },
     "output_type": "display_data"
    }
   ],
   "source": [
    "# Get the fluxes (Iary's catalog is in uJy)\n",
    "flux_counts = dict()\n",
    "for band in filters:\n",
    "    _mag = (gal_fluxes[band]*u.uJy).to(u.ABmag)\n",
    "    _mag = _mag.value+2\n",
    "    #print(band, zeropoints[band])\n",
    "    flux_counts[band] = 10**(-0.4*(_mag-zeropoints[band]))\n",
    "    #print(flux_counts[band], _mag)\n",
    "    if 'F160' in band:\n",
    "        plt.hist(_mag, bins=30, histtype='step')"
   ]
  },
  {
   "cell_type": "code",
   "execution_count": 704,
   "metadata": {},
   "outputs": [],
   "source": [
    "import astropy.io.fits"
   ]
  },
  {
   "cell_type": "code",
   "execution_count": 771,
   "metadata": {},
   "outputs": [
    {
     "data": {
      "text/plain": [
       "Text(0, 0.5, 'P(HLR)')"
      ]
     },
     "execution_count": 771,
     "metadata": {},
     "output_type": "execute_result"
    },
    {
     "data": {
      "image/png": "[encoded data removed]",
      "text/plain": [
       "<Figure size 432x288 with 1 Axes>"
      ]
     },
     "metadata": {
      "needs_background": "light"
     },
     "output_type": "display_data"
    }
   ],
   "source": [
    "plt.hist(0.1+np.random.exponential(0.7,size=10000), histtype='step', density=True)\n",
    "plt.xlabel('HLR', fontsize=16)\n",
    "plt.ylabel('P(HLR)', fontsize=16)"
   ]
  },
  {
   "cell_type": "code",
   "execution_count": 772,
   "metadata": {},
   "outputs": [],
   "source": [
    "#gal_list2 = dict()\n",
    "#for band in filters:\n",
    "gal_list2=[]\n",
    "for i in range(0,nobj):\n",
    "    disk_frac = 1.0-np.random.random()\n",
    "    _beta = galsim.Angle(np.pi*np.random.random(), unit=galsim.radians)\n",
    "    _bulge = galsim.Sersic(2, half_light_radius=0.1+np.random.exponential(0.7), flux=(1-disk_frac)*gal_fluxes['F160W'][i])\n",
    "    _disk = galsim.Sersic(4, half_light_radius=0.1+np.random.exponential(0.7), flux=disk_frac*gal_fluxes['F160W'][i])\n",
    "    _bulge.shear(q=0.1+0.9*np.random.random(), beta=_beta)\n",
    "    _disk.shear(q=0.1+0.9*np.random.random(), beta=_beta)\n",
    "    gal_list2.append(_bulge+_disk)"
   ]
  },
  {
   "cell_type": "code",
   "execution_count": 788,
   "metadata": {},
   "outputs": [],
   "source": [
    "def generate_fake_objects(bands, cluster, gal_list, beta, flux_counts, nobj,\n",
    "                          base_path=base_path,\n",
    "                          niter=0, pixel_scale=0.06, method='no_pixel', gal_type='real', flux_rescale=True):\n",
    "    if cluster!='A370':\n",
    "        try:\n",
    "            wgt_path = glob.glob(os.path.join(base_path, f'{cluster}*RMS*.fits'))[0]\n",
    "        except:\n",
    "            wgt_path = os.path.isfile(os.path.join(base_path, f'{cluster}_IR-WEIGHTED_RMS.fits'))\n",
    "            wgt_path = glob.glob(os.path.join(base_path, f'{cluster}*RMS*.fits'))[0]\n",
    "    else:\n",
    "        try:\n",
    "            wgt_path = glob.glob(os.path.join(base_path, f'{cluster}*RMS*.fits'))[0]\n",
    "        except:\n",
    "            wgt_path = os.path.join(base_path, f'{cluster}_IR-WEIGHTED_RMS_convolved.fits')\n",
    "    wgtmap = fitsio.read(wgt_path) < 1000\n",
    "    meta = fitsio.read_header(wgt_path)\n",
    "    ks_path = os.path.join(base_path, f'KIFF_{cluster}-clu_Ks_v1.0_rms.fits')\n",
    "    if 'AS' in cluster:\n",
    "        irac_path = f'../Downloads/RMS/RXCJ2248.IRAC.1.mosaic.fits'\n",
    "    else:\n",
    "        irac_path = os.path.join(base_path, f'{cluster}.irac.1.mosaic_unc_Corrected.fits')\n",
    "    meta_irac = fitsio.read_header(irac_path)\n",
    "    meta_ks = fitsio.read_header(ks_path)\n",
    "    wcs_orig = WCS(wgt_path)\n",
    "    wcs_irac = WCS(meta_irac)\n",
    "    wcs_ks = WCS(meta_ks)\n",
    "    #pixel_scale = 0.03 #Pixel scale in arcseconds\n",
    "    image_x = meta['NAXIS1']\n",
    "    image_y = meta['NAXIS2']\n",
    "    image_x_irac = meta_irac['NAXIS1']\n",
    "    image_y_irac = meta_irac['NAXIS2']\n",
    "    image_x_ks = meta_ks['NAXIS1']\n",
    "    image_y_ks = meta_ks['NAXIS2']\n",
    "    #print(image_x_ks, image_y_ks)\n",
    "    psfs = dict()\n",
    "    img_px = np.where(wgtmap)\n",
    "    random_indices = np.random.choice(np.arange(len(img_px[0])), size=nobj)\n",
    "    dx = img_px[1][random_indices]\n",
    "    dy = img_px[0][random_indices]\n",
    "    ra, dec = wcs_orig.all_pix2world(dx, dy, 0)\n",
    "    dx_irac, dy_irac = wcs_irac.all_world2pix(ra, dec, 0)\n",
    "    dx_k, dy_k = wcs_ks.all_world2pix(ra, dec, 0)\n",
    "    nx = int(30/pixel_scale) #We draw only postage stamps of 15\"\n",
    "    ny = nx\n",
    "    for band in bands:\n",
    "        if band not in ['I1','I2', 'I3', 'I4', 'Ks']:\n",
    "            psfname = os.path.join(base_path, f'{cluster}_{band}_psf_39x39.fits')\n",
    "            #psfname = os.path.join('/Users/jsanch87/Downloads',f'M0416_{band}_psf_39x39.fits')\n",
    "            #psfname = os.path.join('/Users/jsanch87/Downloads/Completeness_and_Errors/PSFs',\n",
    "            #                       f'{cluster}_{band}_psf_39x39.fits')\n",
    "        elif 'I' in band:\n",
    "            psfname = glob.glob(os.path.join(base_path, f'{cluster}_{band}*_PRF.fits'))[0]\n",
    "        elif 'K' in band:\n",
    "            psfname = glob.glob(os.path.join(base_path, f'{cluster}_Kdriz_psf_39x39.fits'))[0]\n",
    "        psfs[band] = galsim.InterpolatedImage(psfname, scale = pixel_scale, flux = 1.)\n",
    "    weights = dict()\n",
    "    rendered_fluxes = dict()\n",
    "    for band in bands:\n",
    "        print('Generating band: ', band)\n",
    "        if band not in ['I1','I2', 'I3', 'I4', 'Ks']:\n",
    "            _wcs = wcs_orig\n",
    "            full_image = galsim.ImageF(image_x, image_y)\n",
    "            full_image.setOrigin(0,0)\n",
    "            if ('A' in cluster) and ('AS' not in cluster):\n",
    "                cluster_no = cluster.split('A')[1]\n",
    "            elif 'AS' in cluster:\n",
    "                cluster_no = cluster.split('AS')[1]\n",
    "            elif 'M' in cluster:\n",
    "                cluster_no = cluster.split('M')[1]\n",
    "            #print(cluster_no)\n",
    "            wgt_path = glob.glob(os.path.join(base_path, f'hlsp_*{cluster_no}_{band.lower()}*rms.fits'))[0]\n",
    "            wgt_map = fitsio.read(wgt_path)\n",
    "        elif 'I' in band:\n",
    "            _wcs = wcs_irac\n",
    "            full_image = galsim.ImageF(image_x_irac, image_y_irac)\n",
    "            full_image.setOrigin(0,0)\n",
    "            band_no = band.split('I')[1]\n",
    "            if 'AS' in cluster:\n",
    "                wgt_path = glob.glob(f'../Downloads/RMS/RXCJ2248.*.{band_no}.mosaic.fits')[0]\n",
    "            else:\n",
    "                wgt_path = glob.glob(os.path.join(base_path, f'{cluster}.*.{band_no}.mosaic*.fits'))[0]\n",
    "            wgt_map = fitsio.read(wgt_path)\n",
    "        elif 'K' in band:\n",
    "            _wcs = wcs_ks\n",
    "            full_image = galsim.ImageF(image_x_ks, image_y_ks)\n",
    "            full_image.setOrigin(0,0)\n",
    "            wgt_path = glob.glob(os.path.join(base_path, f'KIFF_{cluster}-clu_Ks_v1.0_rms.fits'))[0]\n",
    "            wgt_map = fitsio.read(wgt_path)\n",
    "        weights[f'weight_{band}']=np.ones(len(gal_list))\n",
    "        rflux=np.zeros(len(gal_list))\n",
    "        for i in range(len(gal_list)):\n",
    "            if 'I' in band:\n",
    "                psfs[band].shift(7,-4)\n",
    "            if 'sersic' in gal_type:\n",
    "                if flux_rescale:\n",
    "                    gal_list2[i].flux_rescale = gal_fluxes[band][i]/gal_list2[i].flux\n",
    "                else:\n",
    "                    gal_list2[i]*= gal_fluxes[band][i]/gal_list2[i].flux\n",
    "                final = galsim.Convolve(psfs[band], gal_list2[i])\n",
    "            if 'real' in gal_type:\n",
    "                if flux_rescale:\n",
    "                    gal_list[i].flux_rescale = gal_fluxes[band][i]/gal_list[i].flux\n",
    "                else:\n",
    "                    gal_list[i]*=gal_fluxes[band][i]/gal_list[i].flux\n",
    "                gal_list[i].rotate(beta[i])\n",
    "                final = galsim.Convolve(psfs[band], gal_list[i])\n",
    "            #final = galsim.Convolve(final, galsim.Gaussian(sigma=0.12))\n",
    "            if band not in ['I1','I2', 'I3', 'I4','Ks']:\n",
    "                b = galsim.BoundsI(int(dx[i]-nx/2.), int(dx[i]+nx/2.), int(dy[i]-ny/2.), int(dy[i]+ny/2.))\n",
    "                stamp = final.drawImage(image=full_image[b], method=method, dtype=float32, add_to_image=True, scale=0.06)\n",
    "                if wgt_map[dy[i], dx[i]] > 1000:\n",
    "                    weights[f'weight_{band}'][i]=0.\n",
    "            elif 'I' in band:\n",
    "                b = galsim.BoundsI(int(dx_irac[i]-nx/2.), int(dx_irac[i]+nx/2.), int(dy_irac[i]-ny/2.), int(dy_irac[i]+ny/2.))\n",
    "                stamp = final.drawImage(image=full_image[b], scale=0.6, dtype=float32, add_to_image=True, method=method)\n",
    "                if wgt_map[int(dy_irac[i]), int(dx_irac[i])] > 1000:\n",
    "                    weights[f'weight_{band}'][i]=0.\n",
    "            elif 'K' in band:\n",
    "                b = galsim.BoundsI(int(dx_k[i]-nx/2.), int(dx_k[i]+nx/2.), int(dy_k[i]-ny/2.), int(dy_k[i]+ny/2.))\n",
    "                stamp = final.drawImage(image=full_image[b], method=method, dtype=float32, add_to_image=True, scale=0.06)\n",
    "                if wgt_map[int(dy_k[i]), int(dx_k[i])] > 1000:\n",
    "                    weights[f'weight_{band}'][i]=0.\n",
    "            rflux[i] = np.sum(stamp.array)\n",
    "        #rendered_fluxes[band] = rflux\n",
    "        rendered_fluxes[band] = gal_fluxes[band]\n",
    "        hdu = fits.PrimaryHDU(data=full_image.array, header=_wcs.to_header())\n",
    "        hdu.writeto(os.path.join(base_path, 'output', f'fake_galaxies_{cluster}_{band}_{niter}_{gal_type}.fits.gz'), overwrite=True)\n",
    "        #full_image.write(os.path.join(base_path, 'output', f'fake_galaxies_{cluster}_{band}_{niter}.fits.gz'))\n",
    "        \n",
    "    _tab_pos = astropy.table.Table([dx, dy, dx_irac, dy_irac, dx_k, dy_k, ra, dec], \n",
    "                                   names=('X','Y', 'X_IRAC', 'Y_IRAC', 'X_KS', 'Y_KS', 'RA', 'DEC'))\n",
    "    _tab_flux = astropy.table.Table(rendered_fluxes)\n",
    "    _tab_weights = astropy.table.Table(weights)\n",
    "    tab_out = astropy.table.hstack([_tab_pos, _tab_flux, _tab_weights])\n",
    "    tab_out.write(os.path.join(base_path,'output', f'catalog_fake_galaxies_{cluster}_{niter}_{gal_type}.dat'), format='ascii', overwrite=True)"
   ]
  },
  {
   "cell_type": "code",
   "execution_count": 774,
   "metadata": {},
   "outputs": [],
   "source": [
    "def generate_fake_stars_hff(bands, cluster, nobj,\n",
    "                          base_path=base_path,\n",
    "                          niter=0, pixel_scale=0.06, box_size=20, min_mag=21.5, max_mag=28):\n",
    "    if cluster!='A370':\n",
    "        try:\n",
    "            wgt_path = glob.glob(os.path.join(base_path, f'{cluster}*RMS*.fits'))[0]\n",
    "        except:\n",
    "            wgt_path = os.path.isfile(os.path.join(base_path, f'{cluster}_IR-WEIGHTED_RMS.fits'))\n",
    "            wgt_path = glob.glob(os.path.join(base_path, f'{cluster}*RMS*.fits'))[0]\n",
    "    else:\n",
    "        try:\n",
    "            wgt_path = glob.glob(os.path.join(base_path, f'{cluster}*RMS*.fits'))[0]\n",
    "        except:\n",
    "            wgt_path = os.path.join(base_path, f'{cluster}_IR-WEIGHTED_RMS_convolved.fits')\n",
    "    wgtmap = fitsio.read(wgt_path) < 1000\n",
    "    meta = fitsio.read_header(wgt_path)\n",
    "    ks_path = os.path.join(base_path, f'KIFF_{cluster}-clu_Ks_v1.0_rms.fits')\n",
    "    if 'AS' in cluster:\n",
    "        irac_path = f'../Downloads/RMS/RXCJ2248.IRAC.1.mosaic.fits'\n",
    "    else:\n",
    "        irac_path = os.path.join(base_path, f'{cluster}.irac.1.mosaic_unc_Corrected.fits')\n",
    "    meta_irac = fitsio.read_header(irac_path)\n",
    "    meta_ks = fitsio.read_header(ks_path)\n",
    "    wcs_orig = WCS(wgt_path)\n",
    "    wcs_irac = WCS(meta_irac)\n",
    "    wcs_ks = WCS(meta_ks)\n",
    "    #pixel_scale = 0.03 #Pixel scale in arcseconds\n",
    "    image_x = meta['NAXIS1']\n",
    "    image_y = meta['NAXIS2']\n",
    "    image_x_irac = meta_irac['NAXIS1']\n",
    "    image_y_irac = meta_irac['NAXIS2']\n",
    "    image_x_ks = meta_ks['NAXIS1']\n",
    "    image_y_ks = meta_ks['NAXIS2']\n",
    "    #print(image_x_ks, image_y_ks)\n",
    "    psfs = dict()\n",
    "    img_px = np.where(wgtmap)\n",
    "    random_indices = np.random.choice(np.arange(len(img_px[0])), size=nobj)\n",
    "    dx = img_px[1][random_indices]\n",
    "    dy = img_px[0][random_indices]\n",
    "    ra, dec = wcs_orig.all_pix2world(dx, dy, 0)\n",
    "    dx_irac, dy_irac = wcs_irac.all_world2pix(ra, dec, 0)\n",
    "    dx_k, dy_k = wcs_ks.all_world2pix(ra, dec, 0)\n",
    "    nx = int(box_size/pixel_scale) #We draw only postage stamps of 15\"\n",
    "    ny = nx\n",
    "    for band in bands:\n",
    "        if band not in ['I1','I2', 'I3', 'I4', 'Ks']:\n",
    "            psfname = os.path.join(base_path, f'{cluster}_{band}_psf_39x39.fits')\n",
    "            #psfname = os.path.join('/Users/jsanch87/Downloads',f'M0416_{band}_psf_39x39.fits')\n",
    "            #psfname = os.path.join('/Users/jsanch87/Downloads/Completeness_and_Errors/PSFs', f'{cluster}_{band}_psf_39x39.fits')\n",
    "        elif 'I' in band:\n",
    "            psfname = glob.glob(os.path.join(base_path, f'{cluster}_{band}*_PRF.fits'))[0]\n",
    "        elif 'K' in band:\n",
    "            psfname = glob.glob(os.path.join(base_path, f'{cluster}_Kdriz_psf_39x39.fits'))[0]\n",
    "        psfs[band] = galsim.InterpolatedImage(psfname, scale = pixel_scale, flux = 1.)\n",
    "    weights = dict()\n",
    "    rendered_fluxes = dict()\n",
    "    for band in bands:\n",
    "        print('Generating band: ', band)\n",
    "        if band not in ['I1','I2', 'I3', 'I4', 'Ks']:\n",
    "            full_image = galsim.ImageF(image_x, image_y)\n",
    "            full_image.setOrigin(0,0)\n",
    "            if ('A' in cluster) and ('AS' not in cluster):\n",
    "                cluster_no = cluster.split('A')[1]\n",
    "            elif 'AS' in cluster:\n",
    "                cluster_no = cluster.split('AS')[1]\n",
    "            elif 'M' in cluster:\n",
    "                cluster_no = cluster.split('M')[1]\n",
    "            #print(cluster_no)\n",
    "            wgt_path = glob.glob(os.path.join(base_path, f'hlsp_*{cluster_no}_{band.lower()}*rms.fits'))[0]\n",
    "            wgt_map = fitsio.read(wgt_path)\n",
    "        elif 'I' in band:\n",
    "            full_image = galsim.ImageF(image_x_irac, image_y_irac)\n",
    "            full_image.setOrigin(0,0)\n",
    "            band_no = band.split('I')[1]\n",
    "            if 'AS' in cluster:\n",
    "                wgt_path = glob.glob(f'../Downloads/RMS/RXCJ2248.*.{band_no}.mosaic.fits')[0]\n",
    "            else:\n",
    "                wgt_path = glob.glob(os.path.join(base_path, f'{cluster}.*.{band_no}.mosaic*.fits'))[0]\n",
    "            wgt_map = fitsio.read(wgt_path)\n",
    "        elif 'K' in band:\n",
    "            full_image = galsim.ImageF(image_x_ks, image_y_ks)\n",
    "            full_image.setOrigin(0,0)\n",
    "            wgt_path = glob.glob(os.path.join(base_path, f'KIFF_{cluster}-clu_Ks_v1.0_rms.fits'))[0]\n",
    "            wgt_map = fitsio.read(wgt_path)\n",
    "        weights[f'weight_{band}']=np.ones(nobj)\n",
    "        rflux=np.zeros(nobj)\n",
    "        for i in range(nobj):\n",
    "            #print(i, len(gal_list))\n",
    "            rnd_mag = min_mag+(max_mag-min_mag)*np.random.random()\n",
    "            rnd_flux = 10**(-0.4*(rnd_mag-zeropoints[band]))\n",
    "            if 'I' in band:\n",
    "                psfs[band].shift(7, -4)\n",
    "                print(pixel_scale)\n",
    "                if os.path.isfile('test_PRF_shifted.fits')==False:\n",
    "                    test_prf = psfs[band].drawImage(method='no_pixel', scale=0.06)\n",
    "                    test_prf.write('test_PRF_shifted.fits')\n",
    "                final = galsim.Convolve(psfs[band].rotate(np.pi*np.random.random()*galsim.radians), galsim.Gaussian(sigma=1e-9, flux=rnd_flux))\n",
    "            else:\n",
    "                final = galsim.Convolve(psfs[band].rotate(np.pi*np.random.random()*galsim.radians), galsim.Gaussian(sigma=1e-9, flux=rnd_flux))\n",
    "            if band not in ['I1','I2', 'I3', 'I4','Ks']:\n",
    "                b = galsim.BoundsI(int(dx[i]-nx/2.), int(dx[i]+nx/2.), int(dy[i]-ny/2.), int(dy[i]+ny/2.))\n",
    "                stamp = final.drawImage(image=full_image[b], method='no_pixel', dtype=float32, add_to_image=True, scale=0.06)\n",
    "                if wgt_map[dy[i], dx[i]] > 1000:\n",
    "                    weights[f'weight_{band}'][i]=0.\n",
    "            elif 'I' in band:\n",
    "                b = galsim.BoundsI(int(dx_irac[i]-nx/2.), int(dx_irac[i]+nx/2.), int(dy_irac[i]-ny/2.), int(dy_irac[i]+ny/2.))\n",
    "                stamp = final.drawImage(image=full_image[b], scale=0.6, dtype=float32, add_to_image=True, method='no_pixel')\n",
    "                if wgt_map[int(dy_irac[i]), int(dx_irac[i])] > 1000:\n",
    "                    weights[f'weight_{band}'][i]=0.\n",
    "            elif 'K' in band:\n",
    "                b = galsim.BoundsI(int(dx_k[i]-nx/2.), int(dx_k[i]+nx/2.), int(dy_k[i]-ny/2.), int(dy_k[i]+ny/2.))\n",
    "                stamp = final.drawImage(image=full_image[b], method='no_pixel', dtype=float32, add_to_image=True, scale=0.06)\n",
    "                if wgt_map[int(dy_k[i]), int(dx_k[i])] > 1000:\n",
    "                    weights[f'weight_{band}'][i]=0.\n",
    "            rflux[i] = rnd_flux\n",
    "            #rflux[i] = rnd_flux\n",
    "        rendered_fluxes[band] = rflux\n",
    "        full_image.write(file_name=os.path.join(base_path,'output', f'fake_stars_{cluster}_{band}_{niter}.fits.gz'))\n",
    "    _tab_pos = astropy.table.Table([dx, dy, dx_irac, dy_irac, dx_k, dy_k, ra, dec], \n",
    "                                   names=('X','Y', 'X_IRAC', 'Y_IRAC', 'X_KS', 'Y_KS', 'RA', 'DEC'))\n",
    "    _tab_flux = astropy.table.Table(rendered_fluxes)\n",
    "    _tab_weights = astropy.table.Table(weights)\n",
    "    tab_out = astropy.table.hstack([_tab_pos, _tab_flux, _tab_weights])\n",
    "    tab_out.write(os.path.join(base_path,'output', f'catalog_fake_stars_{cluster}_{niter}.dat'), format='ascii', overwrite=True)"
   ]
  },
  {
   "cell_type": "code",
   "execution_count": 789,
   "metadata": {},
   "outputs": [
    {
     "name": "stdout",
     "output_type": "stream",
     "text": [
      "Generating band:  F160W\n",
      "Generating band:  F160W\n",
      "Generating band:  F160W\n",
      "Generating band:  F160W\n",
      "Generating band:  F160W\n",
      "Generating band:  F160W\n",
      "Generating band:  F160W\n",
      "Generating band:  F160W\n",
      "Generating band:  F160W\n",
      "Generating band:  F160W\n",
      "Generating band:  F160W\n",
      "Generating band:  F160W\n",
      "Generating band:  F160W\n",
      "Generating band:  F160W\n",
      "Generating band:  F160W\n",
      "Generating band:  F160W\n",
      "Generating band:  F160W\n",
      "Generating band:  F160W\n",
      "Generating band:  F160W\n",
      "Generating band:  F160W\n",
      "Generating band:  F160W\n",
      "Generating band:  F160W\n",
      "Generating band:  F160W\n",
      "Generating band:  F160W\n",
      "Generating band:  F160W\n",
      "Generating band:  F160W\n",
      "Generating band:  F160W\n",
      "Generating band:  F160W\n",
      "Generating band:  F160W\n",
      "Generating band:  F160W\n",
      "Generating band:  F160W\n",
      "Generating band:  F160W\n",
      "Generating band:  F160W\n",
      "Generating band:  F160W\n",
      "Generating band:  F160W\n",
      "Generating band:  F160W\n",
      "Generating band:  F160W\n",
      "Generating band:  F160W\n",
      "Generating band:  F160W\n",
      "Generating band:  F160W\n"
     ]
    }
   ],
   "source": [
    "iter_tot = 40\n",
    "myband='F160W'\n",
    "gal_type='sersic'\n",
    "obj_type='galaxies'\n",
    "#filters=['F160W']\n",
    "for i in range(0, iter_tot):\n",
    "    generate_fake_objects([myband], 'A2744', gal_list, beta, flux_counts, nobj,\n",
    "                          niter=i, pixel_scale=0.06, method='no_pixel', gal_type=gal_type, flux_rescale=False)"
   ]
  },
  {
   "cell_type": "code",
   "execution_count": 537,
   "metadata": {},
   "outputs": [
    {
     "name": "stdout",
     "output_type": "stream",
     "text": [
      "Generating band:  F160W\n",
      "Generating band:  F160W\n",
      "Generating band:  F160W\n",
      "Generating band:  F160W\n",
      "Generating band:  F160W\n",
      "Generating band:  F160W\n",
      "Generating band:  F160W\n",
      "Generating band:  F160W\n",
      "Generating band:  F160W\n",
      "Generating band:  F160W\n"
     ]
    }
   ],
   "source": [
    "iter_tot = 10\n",
    "obj_type = 'stars'\n",
    "for i in range(0,iter_tot):\n",
    "    generate_fake_stars_hff([myband], 'A2744', 500, niter=i)"
   ]
  },
  {
   "cell_type": "code",
   "execution_count": 790,
   "metadata": {},
   "outputs": [],
   "source": [
    "band=myband\n",
    "from astropy.visualization import make_lupton_rgb\n",
    "if 'gal' in obj_type:\n",
    "    image_r = fitsio.read(os.path.join(base_path,'output', f'fake_{obj_type}_A2744_{band}_{iter_tot-1}_{gal_type}.fits.gz'))\n",
    "else:\n",
    "    image_r = fitsio.read(os.path.join(base_path,'output', f'fake_{obj_type}_A2744_{band}_{iter_tot-1}.fits.gz'))\n",
    "#image_g = fitsio.read(os.path.join(base_path,'fake_galaxies_A2744_F814W_1.fits.gz'))\n",
    "#image_b = fitsio.read(os.path.join(base_path,'fake_galaxies_A2744_F435W_1.fits.gz'))"
   ]
  },
  {
   "cell_type": "code",
   "execution_count": 753,
   "metadata": {},
   "outputs": [],
   "source": [
    "#image = make_lupton_rgb(image_r[1000:4000,1000:4000],\n",
    "#                        image_g[1000:4000,1000:4000],\n",
    "#                        image_b[1000:4000,1000:4000],\n",
    "#                        Q=3.75, stretch=0.032)\n",
    "#plt.figure(figsize=(14,14))\n",
    "#plt.imshow(image, origin='lower')"
   ]
  },
  {
   "cell_type": "code",
   "execution_count": 791,
   "metadata": {},
   "outputs": [],
   "source": [
    "import sep"
   ]
  },
  {
   "cell_type": "code",
   "execution_count": 792,
   "metadata": {},
   "outputs": [],
   "source": [
    "for i in range(0, iter_tot):\n",
    "    if 'gal' in obj_type:\n",
    "        objs = sep.extract(fitsio.read(os.path.join(base_path, 'output', f'fake_galaxies_A2744_{myband}_{i}_{gal_type}.fits.gz')), 0.001)\n",
    "        fitsio.write(os.path.join(base_path, 'output', f'detected_fake_galaxies_A2744_{myband}_{i}_{gal_type}.fits.gz'), objs, clobber=True)\n",
    "    else:\n",
    "        objs = sep.extract(fitsio.read(os.path.join(base_path, 'output', f'fake_stars_A2744_{myband}_{i}.fits.gz')), 0.001)\n",
    "        fitsio.write(os.path.join(base_path, 'output', f'detected_fake_stars_A2744_{myband}_{i}.fits.gz'), objs, clobber=True)\n",
    "    "
   ]
  },
  {
   "cell_type": "code",
   "execution_count": 793,
   "metadata": {},
   "outputs": [
    {
     "data": {
      "image/png": "[encoded data removed]",
      "text/plain": [
       "<Figure size 864x864 with 1 Axes>"
      ]
     },
     "metadata": {
      "needs_background": "light"
     },
     "output_type": "display_data"
    }
   ],
   "source": [
    "from matplotlib.patches import Ellipse\n",
    "\n",
    "# plot background-subtracted image\n",
    "fig, ax = plt.subplots(figsize=(12,12))\n",
    "m, s = np.mean(image_r), np.std(image_r)\n",
    "im = ax.imshow(image_r[1000:4000,1000:4000], interpolation='nearest', cmap='gray',\n",
    "               vmin=m-s, vmax=m+s, origin='lower')\n",
    "\n",
    "# plot an ellipse for each object\n",
    "for i in range(len(objs)):\n",
    "    e = Ellipse(xy=(objs['x'][i]-1000, objs['y'][i]-1000),\n",
    "                width=6*objs['a'][i],\n",
    "                height=6*objs['b'][i],\n",
    "                angle=objs['theta'][i] * 180. / np.pi)\n",
    "    e.set_facecolor('none')\n",
    "    e.set_edgecolor('red')\n",
    "    ax.add_artist(e)"
   ]
  },
  {
   "cell_type": "code",
   "execution_count": 794,
   "metadata": {},
   "outputs": [],
   "source": [
    "from sklearn.neighbors import KDTree\n",
    "import seaborn as sns\n",
    "from scipy.stats import binned_statistic\n",
    "\n",
    "def spatial_closest_mag_1band(ra_data,dec_data,mag_data,\n",
    "                              ra_true,dec_true,mag_true,true_id,\n",
    "                              rmax=50,max_deltamag=1.0):\n",
    "    X = np.zeros((len(ra_true),2))\n",
    "    X[:,0] = ra_true\n",
    "    X[:,1] = dec_true\n",
    "    tree = KDTree(X,metric='euclidean')\n",
    "    Y = np.zeros((len(ra_data),2))\n",
    "    Y[:,0] = ra_data\n",
    "    Y[:,1] = dec_data\n",
    "    ind,dist= tree.query_radius(Y,r=rmax,return_distance=True)\n",
    "    matched = np.zeros(len(ind),dtype=bool)\n",
    "    ids = np.zeros(len(ind),dtype=true_id.dtype)\n",
    "    dist_out = np.zeros(len(ind))\n",
    "    for i, ilist in enumerate(ind):\n",
    "        if len(ilist)>0:\n",
    "            dmag = np.fabs(2.5*np.log10(mag_true[ilist])-2.5*np.log10(mag_data[i]))\n",
    "            good_ind = np.argmin(dmag)\n",
    "            ids[i]=true_id[ilist[good_ind]]\n",
    "            dist_out[i]=dist[i][good_ind]\n",
    "            if np.min(dmag)<max_deltamag:\n",
    "                matched[i]=True\n",
    "            else:\n",
    "                matched[i]=False\n",
    "        else:\n",
    "            ids[i]=0\n",
    "            matched[i]=False\n",
    "            dist_out[i]=-99.\n",
    "    return dist_out, ids,matched\n",
    "\n",
    "def mystat(x):\n",
    "    return np.percentile(x,75)-np.percentile(x,25)\n",
    "def p75(x):\n",
    "    return np.percentile(x,75)\n",
    "def p25(x):\n",
    "    return np.percentile(x,25)\n",
    "def make_fancy_plot(mag1, mag2, x=None, y=None, hc=None, show_contours=False, bins=30, range=(15,30), xlabel='MAG_ISO',\n",
    "    ylabel='TPHOT - MAG_ISO', savename=None, lbl='cold', color='blue', color2='darkblue',**kwargs):\n",
    "    p1=sns.jointplot(mag1,mag2-mag1, kind='scatter',color=color,marginal_kws={'hist':True, 'kde': True},s=0.001,**kwargs)\n",
    "    if show_contours:\n",
    "        p1.plot_joint(sns.kdeplot)\n",
    "    if (x is not None) and (y is not None) and (hc is None):\n",
    "        dist=np.sqrt((x-2700)**2+(y-2700)**2)\n",
    "        im = p1.ax_joint.scatter(mag1,mag2-mag1,s=0.5,c=dist)\n",
    "        plt.colorbar(im, label='Distance to the center [px]')\n",
    "    elif (x is None) & (y is None) & (hc is not None):\n",
    "        p1.ax_joint.scatter(mag1[hc=='h'],(mag2-mag1)[hc=='h'],s=0.5,c='red')\n",
    "        p1.ax_joint.scatter(mag1[hc=='c'],(mag2-mag1)[hc=='c'],s=0.5,c='blue')\n",
    "    else:\n",
    "        p1.ax_joint.scatter(mag1,mag2-mag1,s=1,c=color)\n",
    "        return p1\n",
    "    plt.legend([lbl])\n",
    "    \n",
    "    median_diff, be, _ = binned_statistic(mag1, mag2-mag1, statistic='median', bins=bins, range=range)\n",
    "    p25_diff, be, _ = binned_statistic(mag1, mag2-mag1, statistic=p25, bins=bins, range=range)\n",
    "    p75_diff, be, _ = binned_statistic(mag1, mag2-mag1, statistic=p75, bins=bins, range=range)\n",
    "    p1.ax_joint.plot(0.5*be[1:]+0.5*be[:-1], median_diff, color=color2)\n",
    "    p1.ax_joint.fill_between(0.5*(be[1:]+be[:-1]), p25_diff, p75_diff, alpha=0.5, color=color2)\n",
    "    p1.ax_joint.set_xlabel(xlabel, fontsize=16)\n",
    "    p1.ax_joint.set_ylabel(ylabel, fontsize=16)\n",
    "    \n",
    "    legend_properties = {'weight':'bold','size':8}\n",
    "    legendMain=p1.ax_joint.legend(prop=legend_properties, labels=[lbl], loc='upper right')\n",
    "    p1.ax_joint.add_artist(legendMain)\n",
    "    \n",
    "    if savename is not None:\n",
    "        p1.savefig(savename)"
   ]
  },
  {
   "cell_type": "code",
   "execution_count": 795,
   "metadata": {},
   "outputs": [
    {
     "name": "stdout",
     "output_type": "stream",
     "text": [
      "0 74 78 80\n",
      "1 74 77 80\n",
      "2 74 78 80\n",
      "3 73 77 80\n",
      "4 74 78 80\n",
      "5 73 77 80\n",
      "6 71 75 80\n",
      "7 74 78 80\n",
      "8 74 78 80\n",
      "9 74 78 80\n",
      "10 73 77 80\n",
      "11 73 77 80\n",
      "12 74 78 80\n",
      "13 74 77 80\n",
      "14 74 78 80\n",
      "15 74 77 80\n",
      "16 74 78 80\n",
      "17 74 78 80\n",
      "18 74 78 80\n",
      "19 73 77 80\n",
      "20 74 77 80\n",
      "21 74 78 80\n",
      "22 74 78 80\n",
      "23 73 76 80\n",
      "24 74 76 80\n",
      "25 75 78 80\n",
      "26 75 78 80\n",
      "27 74 78 80\n",
      "28 74 77 80\n",
      "29 74 78 80\n",
      "30 75 78 80\n",
      "31 75 78 80\n",
      "32 74 78 80\n",
      "33 74 78 80\n",
      "34 75 78 80\n",
      "35 73 77 80\n",
      "36 73 77 80\n",
      "37 74 78 80\n",
      "38 74 78 80\n",
      "39 72 76 80\n"
     ]
    }
   ],
   "source": [
    "for i in range(0, iter_tot):\n",
    "    fname_out = os.path.join(base_path, 'output', f'detected_fake_{obj_type}_A2744_{myband}_{i}.fits.gz')\n",
    "    fname_in = os.path.join(base_path, 'output', f'catalog_fake_{obj_type}_A2744_{i}.dat')\n",
    "    if 'gal' in obj_type:\n",
    "        fname_out = fname_out.replace('.fits.gz', f'_{gal_type}.fits.gz')\n",
    "        fname_in = fname_in.replace('.dat', f'_{gal_type}.dat')\n",
    "        #print(fname_out)\n",
    "    aux = astropy.table.Table.read(fname_out)\n",
    "    aux2 = astropy.table.Table.read(fname_in, format='ascii')\n",
    "    dist, ids, matched = spatial_closest_mag_1band(aux['x'],aux['y'],aux['flux'],\n",
    "                              aux2['X'],aux2['Y'],aux2[f'{myband}'],np.arange(len(tab_in)),\n",
    "                              rmax=10,max_deltamag=2.0)\n",
    "    print(i, np.count_nonzero(matched), len(aux), len(aux2))\n",
    "    joint_table = astropy.table.hstack([aux[matched], aux2[ids][matched]])\n",
    "    if i==0:\n",
    "        total_tab = joint_table\n",
    "    else:\n",
    "        total_tab = astropy.table.vstack([total_tab, joint_table])"
   ]
  },
  {
   "cell_type": "code",
   "execution_count": 796,
   "metadata": {},
   "outputs": [
    {
     "data": {
      "text/plain": [
       "<matplotlib.legend.Legend at 0x104f42dd68>"
      ]
     },
     "execution_count": 796,
     "metadata": {},
     "output_type": "execute_result"
    },
    {
     "data": {
      "image/png": "[encoded data removed]",
      "text/plain": [
       "<Figure size 432x288 with 1 Axes>"
      ]
     },
     "metadata": {
      "needs_background": "light"
     },
     "output_type": "display_data"
    }
   ],
   "source": [
    "plt.hist(total_tab[f'{band}'], histtype='step', bins=30, range=(0,200), label='Input')\n",
    "plt.hist(total_tab[f'flux'], histtype='step', bins=30, range=(0,200), label='SEP')\n",
    "plt.xlabel('Flux [e$^{-}$/s]', fontsize=16)\n",
    "plt.ylabel('Number of objects', fontsize=16)\n",
    "plt.yscale('log')\n",
    "plt.legend(loc='best')"
   ]
  },
  {
   "cell_type": "code",
   "execution_count": 797,
   "metadata": {},
   "outputs": [
    {
     "name": "stdout",
     "output_type": "stream",
     "text": [
      "0.9225\n"
     ]
    }
   ],
   "source": [
    "print(1.0*len(total_tab)/(nobj*iter_tot))"
   ]
  },
  {
   "cell_type": "code",
   "execution_count": 798,
   "metadata": {},
   "outputs": [],
   "source": [
    "from scipy.stats import binned_statistic"
   ]
  },
  {
   "cell_type": "code",
   "execution_count": 799,
   "metadata": {},
   "outputs": [],
   "source": [
    "def clipped_median(x, nmax_iter=1000, tol=0.01, max_sigma=1.):\n",
    "    for i in range(nmax_iter):\n",
    "        _sigma = np.std(x)\n",
    "        _old_median = np.median(x)\n",
    "        _new_median = np.median(x[(x>_old_median-max_sigma*_sigma) & (x<_old_median+max_sigma*_sigma)])\n",
    "        if np.fabs(_old_median/_new_median-1) < tol:\n",
    "            return _new_median\n",
    "        else:\n",
    "            x=x[(x>_old_median-max_sigma*_sigma) & (x<_old_median+max_sigma*_sigma)]\n",
    "    return _new_median"
   ]
  },
  {
   "cell_type": "code",
   "execution_count": 800,
   "metadata": {},
   "outputs": [
    {
     "name": "stderr",
     "output_type": "stream",
     "text": [
      "//anaconda3/lib/python3.7/site-packages/numpy/core/fromnumeric.py:3257: RuntimeWarning: Mean of empty slice.\n",
      "  out=out, **kwargs)\n",
      "//anaconda3/lib/python3.7/site-packages/numpy/core/_methods.py:161: RuntimeWarning: invalid value encountered in double_scalars\n",
      "  ret = ret.dtype.type(ret / rcount)\n",
      "//anaconda3/lib/python3.7/site-packages/numpy/core/_methods.py:217: RuntimeWarning: Degrees of freedom <= 0 for slice\n",
      "  keepdims=keepdims)\n",
      "//anaconda3/lib/python3.7/site-packages/numpy/core/_methods.py:186: RuntimeWarning: invalid value encountered in true_divide\n",
      "  arrmean, rcount, out=arrmean, casting='unsafe', subok=False)\n",
      "//anaconda3/lib/python3.7/site-packages/numpy/core/_methods.py:209: RuntimeWarning: invalid value encountered in double_scalars\n",
      "  ret = ret.dtype.type(ret / rcount)\n"
     ]
    }
   ],
   "source": [
    "median_diff, be, _ = binned_statistic(-2.5*np.log10(total_tab[f'{myband}'])+zeropoints[f'{myband}'],\n",
    "            -2.5*np.log10(total_tab[f'{myband}'])+2.5*np.log10(total_tab['flux']), statistic=clipped_median)"
   ]
  },
  {
   "cell_type": "code",
   "execution_count": 801,
   "metadata": {},
   "outputs": [],
   "source": [
    "import seaborn as sns"
   ]
  },
  {
   "cell_type": "code",
   "execution_count": 802,
   "metadata": {},
   "outputs": [
    {
     "data": {
      "text/plain": [
       "Text(18.75, 0.5, 'Input - measured')"
      ]
     },
     "execution_count": 802,
     "metadata": {},
     "output_type": "execute_result"
    },
    {
     "data": {
      "image/png": "[encoded data removed]",
      "text/plain": [
       "<Figure size 432x432 with 3 Axes>"
      ]
     },
     "metadata": {
      "needs_background": "light"
     },
     "output_type": "display_data"
    }
   ],
   "source": [
    "jgrid = sns.jointplot(-2.5*np.log10(total_tab[f'{myband}'])+zeropoints[f'{myband}'],\n",
    "            -2.5*np.log10(total_tab[f'{myband}'])+2.5*np.log10(total_tab['flux']), kind='scatter', s=0.1, ylim=(-0.5,0.5))#, marginal_kws=dict(bins=500))\n",
    "\n",
    "#jgrid.ax_joint.scatter(-2.5*np.log10(tab_in[f'{band}'][ids][matched])+zeropoints[f'{band}'],\n",
    "#            -2.5*np.log10(tab_in[f'{band}'][ids][matched])+2.5*np.log10(tab_out['flux'][matched]), s=1)\n",
    "jgrid.ax_joint.plot(0.5*(be[1:]+be[:-1]), median_diff, 'ro')\n",
    "jgrid.ax_joint.set_xlabel('F160W', fontsize=16)\n",
    "jgrid.ax_joint.set_ylabel('Input - measured', fontsize=16)\n",
    "#plt.ylim(-0.4,0.1)"
   ]
  },
  {
   "cell_type": "code",
   "execution_count": null,
   "metadata": {},
   "outputs": [],
   "source": []
  },
  {
   "cell_type": "code",
   "execution_count": null,
   "metadata": {},
   "outputs": [],
   "source": []
  }
 ],
 "metadata": {
  "kernelspec": {
   "display_name": "Python 3",
   "language": "python",
   "name": "python3"
  },
  "language_info": {
   "codemirror_mode": {
    "name": "ipython",
    "version": 3
   },
   "file_extension": ".py",
   "mimetype": "text/x-python",
   "name": "python",
   "nbconvert_exporter": "python",
   "pygments_lexer": "ipython3",
   "version": "3.7.3"
  }
 },
 "nbformat": 4,
 "nbformat_minor": 4
}
